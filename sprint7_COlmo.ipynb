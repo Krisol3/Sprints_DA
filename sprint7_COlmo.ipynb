{
 "cells": [
  {
   "cell_type": "markdown",
   "metadata": {},
   "source": [
    "# SPRINT S7.01. Estructures de dades y de control"
   ]
  },
  {
   "cell_type": "markdown",
   "metadata": {},
   "source": [
    "## NIVELL 1"
   ]
  },
  {
   "cell_type": "markdown",
   "metadata": {},
   "source": [
    "### Exercici 1\n",
    "Calculadora de l'índex de massa corporal\n",
    "\n",
    "Escriu una funció que calculi l'IMC ingressat per l'usuari/ària, és a dir, qui ho executi haurà d'ingressar aquestes dades. Pots obtenir més informació del seu càlcul en:\n",
    "\n",
    "La funció ha de classificar el resultat en les seves respectives categories"
   ]
  },
  {
   "cell_type": "markdown",
   "metadata": {},
   "source": [
    "LÒGICA DE L'EXERCICI: \n",
    "1. Creem la funció per obtenir els valors de les variables i en el format correcte. En cas contrari es mostra un missatge d'error. \n",
    "2. Creem la funció amb la fòrmula que calcula el IMC\n",
    "3. Creem la funció que classifica el IMC segons les condicions establertes de 'baix pes, pes normal, sobrepès o obesitat'.\n",
    "4. Creem la funció que mostra el resultats segons el valor del IMC i la posterior classificació\n",
    "5. Creem la funció principal 'Calculador de IMC' que remet a les diferents funcions anteriors\n",
    "6. Establim la variable 'resultat_imc' la qual emmagatzema el resultat obtingut en cridar la funció."
   ]
  },
  {
   "cell_type": "code",
   "execution_count": 1,
   "metadata": {},
   "outputs": [
    {
     "name": "stdout",
     "output_type": "stream",
     "text": [
      "El teu IMC és 17.04, per tant tens 'baix pes'.\n"
     ]
    }
   ],
   "source": [
    "def obtenir_valor(nom_variable, missatge):\n",
    "    valor = None\n",
    "    while valor is None:\n",
    "        try:\n",
    "            valor = float(input(missatge))\n",
    "        except ValueError:\n",
    "            print(f\"El valor introduït no és vàlid. Si us plau, introdueix el {nom_variable}.\")\n",
    "    return valor\n",
    "\n",
    "def calcular_imc(pes, altura):\n",
    "    return pes / (altura ** 2)\n",
    "\n",
    "def classificar_imc(imc):\n",
    "    if imc < 18.5:\n",
    "        return \"baix pes\"\n",
    "    elif imc < 24.9:\n",
    "        return \"pes normal\"\n",
    "    elif imc < 29.9:\n",
    "        return \"sobrepès\"\n",
    "    else:\n",
    "        return \"obesitat\"\n",
    "\n",
    "def mostrar_resultat(imc, classificacio):\n",
    "    print(f\"El teu IMC és {imc:.2f}, per tant tens '{classificacio}'.\")\n",
    "    return imc, classificacio\n",
    "\n",
    "def calculadora_imc():\n",
    "    pes = obtenir_valor(\"pes en kg\", \"Introdueix el teu pes (kg): \")\n",
    "    altura = obtenir_valor(\"alçada en format decimal\", \"Introdueix la teva alçada (en metres): \")\n",
    "    imc = calcular_imc(pes, altura)\n",
    "    classificacio = classificar_imc(imc)\n",
    "    return mostrar_resultat(imc, classificacio)\n",
    "\n",
    "resultat_imc = calculadora_imc()"
   ]
  },
  {
   "cell_type": "markdown",
   "metadata": {},
   "source": [
    "### Exercici 2\n",
    "Convertidor de temperatures.\n",
    "\n",
    "Existeixen diverses unitats de temperatura utilitzades en diferents contextos i regions. Les més comunes són Celsius (°C), Fahrenheit (°F) i Kelvin (K). També existeixen altres unitats com Rankine (°Ra) i Réaumur (°Re). Selecciona almenys 2 conversors, de tal manera que en introduir una temperatura retorni, com a mínim, dues conversions."
   ]
  },
  {
   "cell_type": "markdown",
   "metadata": {},
   "source": [
    "LÒGICA DE L'EXERCICI: \n",
    "1. Creem les 4 funcions de conversió per a cadascun dels càlculs entre la temperatura en Celsius i les diferents mesures (Fahrenheit, Kelvin, Rankine, Reaumur)\n",
    "2. Creem una funció que ens servirà per a mostrar els resultats dels càlculs (fa una funció similar al print però ens permet emmagatzemar un missatge personalitzat)\n",
    "3. Creem la funció principal anomenada conversor_temp, que recopila les diferents funcions de càlcul i la funció de mostra de resultats\n",
    "4. Establim una variable que ens emmagatzemarà el resultat de la conversió feta sobre la temperatura en Celsius introduïda per l'usuari"
   ]
  },
  {
   "cell_type": "code",
   "execution_count": 2,
   "metadata": {},
   "outputs": [
    {
     "name": "stdout",
     "output_type": "stream",
     "text": [
      "34.00°C equival a: 93.20°F, 307.15K, 552.87°Ra, 27.20°Re.\n"
     ]
    }
   ],
   "source": [
    "def convertir_a_fahrenheit(celsius):\n",
    "    return celsius * 9/5 + 32\n",
    "\n",
    "def convertir_a_kelvin(celsius):\n",
    "    return celsius + 273.15\n",
    "\n",
    "def convertir_a_rankine(celsius):\n",
    "    return (celsius + 273.15) * 9/5\n",
    "\n",
    "def convertir_a_reaumur(celsius):\n",
    "    return celsius * 0.8\n",
    "\n",
    "def mostrar_resultats(celsius, fahrenheit, kelvin, rankine, reaumur):\n",
    "    print(f\"{celsius:.2f}°C equival a: {fahrenheit:.2f}°F, {kelvin:.2f}K, {rankine:.2f}°Ra, {reaumur:.2f}°Re.\")\n",
    "\n",
    "def conversor_temp():\n",
    "    try:\n",
    "        celsius = float(input(\"Introdueix la temperatura en Celsius (°C): \"))  \n",
    "        fahrenheit = convertir_a_fahrenheit(celsius)\n",
    "        kelvin = convertir_a_kelvin(celsius)\n",
    "        rankine = convertir_a_rankine(celsius)\n",
    "        reaumur = convertir_a_reaumur(celsius)\n",
    "        mostrar_resultats(celsius, fahrenheit, kelvin, rankine, reaumur)\n",
    "    except ValueError:\n",
    "        print(\"El valor introduït no és una temperatura vàlida. Si us plau, introdueix un número.\")\n",
    "\n",
    "equivalencia_temp = conversor_temp()"
   ]
  },
  {
   "cell_type": "markdown",
   "metadata": {},
   "source": [
    "### Exercici 3\n",
    "Comptador de paraules d'un text.\n",
    "\n",
    "Escriu una funció que donat un text, mostri les vegades que apareix cada paraula."
   ]
  },
  {
   "cell_type": "markdown",
   "metadata": {},
   "source": [
    "LÒGICA DE L'EXERCICI:\n",
    "1. Importem la biblioteca RE que ens permet treballar amb la funció .findall per a extreure la puntuació del text\n",
    "2. Creem una funció que ens permet eliminar la puntuació del text per mitjà d'un bucle que detecta els simbols i caràcters especials\n",
    "3. Creem una funció que ens permet contar les paraules d'un text, separant el text en paraules i emmagatzemant-les dins d'un diccionari que controla la freqüència en que es repeteixen. Mitjançant un bucle es recorre el llistat de paraules que conformen el text i amb els condicionals detecta si és una paraule nova o si ja s'ha repetit per augmentar el comptador del diccionari\n",
    "4. Creem la funció que mostra la freqüència amb la que apareixen les paraules i imprimeix la paraula i la seva freqüència\n",
    "5. Creem la funció principal que compta amb l'eliminador de puntuació, el recompte de paraules i el mostrador de freqüències. \n",
    "6. Establim una variable que emmagatzemarà el resultat d'executar la funció"
   ]
  },
  {
   "cell_type": "code",
   "execution_count": 3,
   "metadata": {},
   "outputs": [
    {
     "name": "stdout",
     "output_type": "stream",
     "text": [
      "La paraula 'la' apareix 2 cops.\n",
      "La paraula 'vaca' apareix 2 cops.\n",
      "La paraula 'lola' apareix 2 cops.\n"
     ]
    }
   ],
   "source": [
    "import re\n",
    "\n",
    "#text d'exemple per copiar i pegar: La vaca Lola, la vaca Lola, tiene cabeza y tiene cola. \n",
    "\n",
    "def eliminar_puntuacio(text): \n",
    "    paraules = re.findall(r'\\b\\w+\\b', text.lower())\n",
    "    return paraules\n",
    "\n",
    "def contar_paraules(paraules):\n",
    "    freq_paraula = {}\n",
    "    for paraula in paraules:\n",
    "        if paraula in freq_paraula:\n",
    "            freq_paraula[paraula] += 1\n",
    "        else:\n",
    "            freq_paraula[paraula] = 1\n",
    "    return freq_paraula\n",
    "\n",
    "def mostrar_freq(freq_paraula):\n",
    "    for paraula, freq in freq_paraula.items():\n",
    "        print(f\"La paraula '{paraula}' apareix {freq} cops.\")\n",
    "\n",
    "def contador_paraules():\n",
    "    text = input(\"Introdueix un text: \")\n",
    "    paraules = eliminar_puntuacio(text)\n",
    "    freq_paraula = contar_paraules(paraules)\n",
    "    mostrar_freq(freq_paraula)\n",
    "\n",
    "\n",
    "paraules_text = contador_paraules()"
   ]
  },
  {
   "cell_type": "markdown",
   "metadata": {},
   "source": [
    "### Exercici 4\n",
    "Diccionari invers.\n",
    "\n",
    "Resulta que el client té una enquesta molt antiga que s'emmagatzema en un diccionari i els resultats els necessita al revés, és a dir, intercanviats les claus i els valors. Els valors i claus en el diccionari original són únics; si aquest no és el cas, la funció hauria d'imprimir un missatge d'advertiment.\n",
    "\n",
    "\n"
   ]
  },
  {
   "cell_type": "markdown",
   "metadata": {},
   "source": [
    "LÒGICA DE L'EXERCICI:\n",
    "1. Definició de la funció\n",
    "2. Condicional per a valorar si els valors afegits al diccionari original son diferents dels ja existents per a evitar duplicats\n",
    "3. Missatge d'advertència\n",
    "4. Condicional que comprova que els valors són nous i, per tant, els emmagatzema de forma inversa. Aquest pas compte amb un bucle per a recorrer els valors del diccionari\n",
    "5. Diferents variables per a introduir diccionaris amb duplicats o sense \n",
    "6. Crida a la funció amb diferents variables (una amb valors repetits i una altra amb valors diferents)"
   ]
  },
  {
   "cell_type": "code",
   "execution_count": 4,
   "metadata": {},
   "outputs": [
    {
     "name": "stdout",
     "output_type": "stream",
     "text": [
      "Atenció: Els valors no són únics en el diccionari original.\n"
     ]
    },
    {
     "data": {
      "text/plain": [
       "{1: 'a', 2: 'b', 3: 'c', 4: 'd'}"
      ]
     },
     "execution_count": 4,
     "metadata": {},
     "output_type": "execute_result"
    }
   ],
   "source": [
    "def invertir_diccionari(diccionari_original):\n",
    "    if len(diccionari_original.values()) != len(set(diccionari_original.values())): \n",
    "        print(\"Atenció: Els valors no són únics en el diccionari original.\")\n",
    "    else:\n",
    "        diccionari_invertit = {valor: clau for clau, valor in diccionari_original.items()} \n",
    "        return diccionari_invertit\n",
    "    \n",
    "invertir_diccionari({'a': 1, 'b': 2, 'c': 3, 'd':3})\n",
    "invertir_diccionari({'a': 1, 'b': 2, 'c': 3, 'd':4})"
   ]
  },
  {
   "cell_type": "markdown",
   "metadata": {},
   "source": [
    "## NIVELL 2"
   ]
  },
  {
   "cell_type": "markdown",
   "metadata": {},
   "source": [
    "### Exercici 1\n",
    "Diccionari invers amb duplicats\n",
    "\n",
    "Continuant amb l'exercici 4 del nivell 1: al client es va oblidar de comentar un detall i resulta que els valors en el diccionari original poden duplicar-se i més, per la qual cosa les claus intercanviades poden tenir duplicats. En aquest cas, en l'exercici anterior imprimies un missatge d'advertiment, ara, els valors del diccionari resultant hauran d'emmagatzemar-se com una llista. Tingues en compte que si és un valor únic no ha de ser una llista.\n",
    "\n"
   ]
  },
  {
   "cell_type": "markdown",
   "metadata": {},
   "source": [
    "LÒGICA DE L'EXERCICI:\n",
    "1. Creem la funció de afegir al diccionari la paraula i el seu valor\n",
    "2. Creem la funció de imprimir el resultat del diccionari\n",
    "3. Creem la funció principal de diccionari invertit amb duplicats cridant les funcions prèvies, així com la funció de l'exercici 4 del nivell 1\n",
    "4. Establim una variable on enregistrarem els resultats de la funció"
   ]
  },
  {
   "cell_type": "code",
   "execution_count": 5,
   "metadata": {},
   "outputs": [
    {
     "name": "stdout",
     "output_type": "stream",
     "text": [
      "Atenció: Els valors no són únics en el diccionari original.\n",
      "Diccionari Invertit: None\n"
     ]
    }
   ],
   "source": [
    "def afegir_diccionari(diccionari, clau, valor):\n",
    "    if clau not in diccionari:\n",
    "        diccionari[clau] = valor\n",
    "    else:\n",
    "        if isinstance(diccionari[clau], list):\n",
    "            diccionari[clau].append(valor)\n",
    "        else:\n",
    "            diccionari[clau] = [diccionari[clau], valor]\n",
    "\n",
    "def imprimir_diccionari(diccionari):\n",
    "    print(\"Diccionari Invertit:\", diccionari)\n",
    "\n",
    "def dic_invertit_duplicats():\n",
    "    diccionari_original = {'Cotxe': 1, 'Bus': 2, 'Taxi': 1, 'Tren': 3}\n",
    "    diccionari_invertit = invertir_diccionari(diccionari_original)\n",
    "    imprimir_diccionari(diccionari_invertit)\n",
    "\n",
    "dic_invertit_duplicats = dic_invertit_duplicats()"
   ]
  },
  {
   "cell_type": "markdown",
   "metadata": {},
   "source": [
    "### Exercici 2\n",
    "Conversió de tipus de dades\n",
    "\n",
    "El client rep una llista de dades i necessita generar dues llistes, la primera on estaran tots els elements que es van poder convertir en flotants i l'altra on estan els elements que no es van poder convertir. Exemple de la llista que rep el client: [ '1.3', 'one' , '1e10' , 'seven', '3-1/2', ('2',1,1.4,'not-a-number'), [1,2,'3','3.4']]\n",
    "\n"
   ]
  },
  {
   "cell_type": "markdown",
   "metadata": {},
   "source": [
    "LÒGICA DE L'EXERCICI: \n",
    "1. Creem la funció per a determinar si cadascun dels elements de la llista són o no decimals\n",
    "2. Creem la funció per a valorar l'element i situar-lo en la llista que li correspon. Fem servir un condicional amb un bucle que ens determina si l'element està a la llista i en cas de que no hi estigui amb un altre condicional ens ho afegeix a una de les dues llistes\n",
    "3. Creem una funció que ens permet convertir els elements de la llista i separar-los entre les dues llistes de convertibles i no_convertibles\n",
    "4. Creem una funció que ens permet mostrar els resultats de cadascuna de les llistes (fer un doble print)\n",
    "5. Creem la funció principal que executa les diferents funcions per tal d'analitzar la llista\n",
    "6. Establim una variable a on emmagatzemarem els resultats de cridar a la funció"
   ]
  },
  {
   "cell_type": "code",
   "execution_count": 6,
   "metadata": {},
   "outputs": [
    {
     "name": "stdout",
     "output_type": "stream",
     "text": [
      "Elements convertibles: [1.3, 10000000000.0, 2.0, 1.0, 1.4, 1.0, 2.0, 3.0, 3.4]\n",
      "Elements no convertibles: ['one', 'seven', '3-1/2', 'not-a-number']\n"
     ]
    }
   ],
   "source": [
    "def es_convertible(element):\n",
    "    try:\n",
    "        float(element)\n",
    "        return True\n",
    "    except (ValueError, TypeError):\n",
    "        return False\n",
    "\n",
    "def valorar_element(element, convertibles, no_convertibles):\n",
    "    if isinstance(element, (list, tuple)):\n",
    "        for sub_element in element:\n",
    "            valorar_element(sub_element, convertibles, no_convertibles)\n",
    "    else:\n",
    "        if es_convertible(element):\n",
    "            convertibles.append(float(element))\n",
    "        else:\n",
    "            no_convertibles.append(element)\n",
    "\n",
    "def conversio_dades(llista):\n",
    "    convertibles = []\n",
    "    no_convertibles = []\n",
    "    for item in llista:\n",
    "        valorar_element(item, convertibles, no_convertibles)\n",
    "    return convertibles, no_convertibles\n",
    "\n",
    "def mostrar_resultats(convertibles, no_convertibles):\n",
    "    print(\"Elements convertibles:\", convertibles)\n",
    "    print(\"Elements no convertibles:\", no_convertibles)\n",
    "\n",
    "def conversio_tipus_dades():\n",
    "    llista_original = ['1.3', 'one', '1e10', 'seven', '3-1/2', ('2', 1, 1.4, 'not-a-number'), [1, 2, '3', '3.4']]\n",
    "    convertibles, no_convertibles = conversio_dades(llista_original)\n",
    "    mostrar_resultats(convertibles, no_convertibles)\n",
    "\n",
    "resultats_dades_conversio = conversio_tipus_dades()"
   ]
  },
  {
   "cell_type": "markdown",
   "metadata": {},
   "source": [
    "## NIVELL 3"
   ]
  },
  {
   "cell_type": "markdown",
   "metadata": {},
   "source": [
    "### Exercici 1\n",
    "Comptador i endreçador de paraules d'un text.\n",
    "\n",
    "El client va quedar content amb el comptador de paraules, però ara vol llegir arxius TXT i que calculi la freqüència de cada paraula ordenades dins de les entrades habituals del diccionari segons la lletra amb la qual comencen, és a dir, les claus han d'anar de la A a la Z i dins de la A hem d'anar de la A la Z. Per exemple, per a l'arxiu \"tu_me_quieres_blanca.txt\" la sortida esperada seria:\n",
    "\n",
    "\n",
    "\n"
   ]
  },
  {
   "cell_type": "markdown",
   "metadata": {},
   "source": [
    "LÒGICA DE L'EXERCICI: \n",
    "1. Importem les biblioteques que necessitem per a realitzar l'exercici\n",
    "2. Creem la funció que ens permet processar el text: establim una variable que enregistrarà les paraules per la seva inicial mitjançant lambda i el mòdul defaultdict. A més dins d'aquesta funció amb el with ens permet llegir el document .txt i amb un bucle s'aplica la funció d'eliminar puntuació de l'exercici 3 del nivell 1. Posteriorment, el bucle classifica les paraules en funció de la seva inicial.\n",
    "3. Creem la funció que ens mostra la freqüència de les paraules modificant la funció de l'exercici 3 del nivell 1 per tal que amb un doble bucle les paraules s'emmagatzemin per freqüència de repetició i per la inicial de la paraula\n",
    "4. Creem la funció principal on s'indica el document que volem processar i es criden les funcions definides prèviament\n",
    "5. Establim la variable de resultat on emmagatzemarem els resultats de cridar la nostra funció."
   ]
  },
  {
   "cell_type": "code",
   "execution_count": 8,
   "metadata": {},
   "outputs": [
    {
     "name": "stdout",
     "output_type": "stream",
     "text": [
      "'A':\n",
      " a: 3\n",
      " agua: 1\n",
      " al: 2\n",
      " alba: 4\n",
      " alcobas: 1\n",
      " alimenta: 1\n",
      " alma: 1\n",
      " amarga: 1\n",
      " azucena: 1\n",
      "'B':\n",
      " baco: 1\n",
      " banquete: 1\n",
      " bebe: 1\n",
      " blanca: 3\n",
      " boca: 1\n",
      " bosques: 1\n",
      " buen: 1\n",
      "'C':\n",
      " cabañas: 1\n",
      " carnes: 2\n",
      " casta: 3\n",
      " cerrada: 1\n",
      " con: 4\n",
      " conservas: 1\n",
      " copas: 1\n",
      " corola: 1\n",
      " corriste: 1\n",
      " cuando: 2\n",
      " cubierto: 1\n",
      " cuerpo: 1\n",
      " cuáles: 1\n",
      "'D':\n",
      " de: 8\n",
      " dejaste: 1\n",
      " del: 1\n",
      " diga: 1\n",
      " dios: 2\n",
      " duerme: 1\n",
      "'E':\n",
      " el: 4\n",
      " ellas: 1\n",
      " en: 4\n",
      " engaño: 1\n",
      " enredada: 1\n",
      " entonces: 1\n",
      " escarcha: 1\n",
      " espumas: 1\n",
      " esqueleto: 1\n",
      " estrago: 1\n",
      "'F':\n",
      " festejando: 1\n",
      " filtrado: 1\n",
      " frutos: 1\n",
      "'H':\n",
      " habla: 1\n",
      " hacia: 1\n",
      " haya: 1\n",
      " hayas: 1\n",
      " hermana: 1\n",
      " hombre: 1\n",
      " hubiste: 1\n",
      " huye: 1\n",
      "'I':\n",
      " intacto: 1\n",
      "'J':\n",
      " jardines: 1\n",
      "'L':\n",
      " la: 3\n",
      " labios: 1\n",
      " las: 7\n",
      " lo: 2\n",
      " los: 4\n",
      " luna: 1\n",
      " lévate: 1\n",
      " límpiate: 1\n",
      "'M':\n",
      " mano: 1\n",
      " manos: 1\n",
      " margarita: 1\n",
      " me: 10\n",
      " mi: 1\n",
      " mieles: 1\n",
      " milagros: 1\n",
      " mojada: 1\n",
      " montaña: 1\n",
      " morados: 1\n",
      "'N':\n",
      " negros: 1\n",
      " ni: 2\n",
      " no: 1\n",
      " nácar: 1\n",
      " nívea: 2\n",
      "'P':\n",
      " perdone: 2\n",
      " perfume: 1\n",
      " por: 2\n",
      " pretendes: 3\n",
      " preténdeme: 3\n",
      " puesto: 1\n",
      " pájaros: 1\n",
      " pámpanos: 1\n",
      "'Q':\n",
      " que: 6\n",
      " quedó: 1\n",
      " quieres: 6\n",
      "'R':\n",
      " rayo: 1\n",
      " raíz: 1\n",
      " renueva: 1\n",
      " rocas: 1\n",
      " rojo: 1\n",
      "'S':\n",
      " salitre: 1\n",
      " se: 2\n",
      " sea: 1\n",
      " sean: 1\n",
      " sobre: 2\n",
      " sé: 1\n",
      "'T':\n",
      " te: 3\n",
      " tejidos: 1\n",
      " tenue: 1\n",
      " tierra: 1\n",
      " toca: 1\n",
      " todas: 2\n",
      " todavía: 1\n",
      " tornadas: 1\n",
      " tú: 8\n",
      "'U':\n",
      " un: 1\n",
      " una: 1\n",
      "'V':\n",
      " vestido: 1\n",
      " vete: 1\n",
      " vive: 1\n",
      "'Y':\n",
      " y: 5\n"
     ]
    }
   ],
   "source": [
    "import re\n",
    "from collections import defaultdict\n",
    "\n",
    "def processar_text(document):\n",
    "    paraules_per_inicial = defaultdict(lambda: defaultdict(int))\n",
    "    with open(document, 'r', encoding='utf-8') as file:\n",
    "        for line in file:\n",
    "            words = eliminar_puntuacio(line)\n",
    "            for paraula in words:\n",
    "                inicial = paraula[0]\n",
    "                paraules_per_inicial[inicial][paraula] += 1\n",
    "    return paraules_per_inicial\n",
    "\n",
    "def mostrar_freq(paraules_per_inicial):\n",
    "    for inicial in sorted(paraules_per_inicial):\n",
    "        print(f\"'{inicial.upper()}':\")\n",
    "        for paraula, freq in sorted(paraules_per_inicial[inicial].items()):\n",
    "            print(f\" {paraula}: {freq}\")\n",
    "\n",
    "def contador_parau_text():\n",
    "    document = 'tu_me_quieres_blanca.txt'\n",
    "    paraules_per_inicial = processar_text(document)\n",
    "    mostrar_freq(paraules_per_inicial)\n",
    "\n",
    "freq_paraules_alfab = contador_parau_text()\n"
   ]
  }
 ],
 "metadata": {
  "kernelspec": {
   "display_name": "ironhack",
   "language": "python",
   "name": "python3"
  },
  "language_info": {
   "codemirror_mode": {
    "name": "ipython",
    "version": 3
   },
   "file_extension": ".py",
   "mimetype": "text/x-python",
   "name": "python",
   "nbconvert_exporter": "python",
   "pygments_lexer": "ipython3",
   "version": "3.10.15"
  }
 },
 "nbformat": 4,
 "nbformat_minor": 2
}
