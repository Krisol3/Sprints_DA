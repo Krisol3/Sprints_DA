{
 "cells": [
  {
   "cell_type": "markdown",
   "metadata": {},
   "source": [
    "# SPRINT S7.01. Estructures de dades y de control"
   ]
  },
  {
   "cell_type": "markdown",
   "metadata": {},
   "source": [
    "## NIVELL 1"
   ]
  },
  {
   "cell_type": "markdown",
   "metadata": {},
   "source": [
    "### Exercici 1\n",
    "Calculadora de l'índex de massa corporal\n",
    "\n",
    "Escriu una funció que calculi l'IMC ingressat per l'usuari/ària, és a dir, qui ho executi haurà d'ingressar aquestes dades. Pots obtenir més informació del seu càlcul en:\n",
    "\n",
    "La funció ha de classificar el resultat en les seves respectives categories"
   ]
  },
  {
   "cell_type": "markdown",
   "metadata": {},
   "source": [
    "LÒGICA DE L'EXERCICI: \n",
    "1. Definim la funció \n",
    "2. Definim les variables com a None ja que encara no tenim les dades\n",
    "3. Elaborem un Value Error per a cada variable per a evitar que l'usuari introdueixi dades errònees. Per a fer-ho cal establir l'input com a float i determinem un missatge d'error en cas de que s'introdueixi un altre tipus de dada. El missatge es repetirà mentres l'usuari no introdueixi un valor vàlid (l'apliquem tant a altura com a pes)\n",
    "4. Fòrmula que ens calcula el IMC\n",
    "5. Classificació de IMC mitjançant un condicional quadrúple\n",
    "6. Missatge d'impressió dels resultats\n",
    "7. Crida a la funció"
   ]
  },
  {
   "cell_type": "code",
   "execution_count": 6,
   "metadata": {},
   "outputs": [
    {
     "name": "stdout",
     "output_type": "stream",
     "text": [
      "El teu IMC és 23.59, per tant tens 'pes normal'.\n"
     ]
    }
   ],
   "source": [
    "def calculadora_imc(): \n",
    "    pes = None\n",
    "    altura = None\n",
    "\n",
    "    while pes is None:\n",
    "        try:\n",
    "            pes = float(input(\"Introdueix el teu pes (kg): \"))\n",
    "        except ValueError:\n",
    "            print(\"El valor introduït no és vàlid. Si us plau, introdueix el pes en kg.\")\n",
    "\n",
    "    while altura is None:\n",
    "        try:\n",
    "            altura = float(input(\"Introdueix la teva alçada (en metres): \"))\n",
    "        except ValueError:\n",
    "            print(\"El valor introduït no és vàlid. Si us plau, introdueix l'altura en format decimal (ex: 1.75).\")\n",
    "          \n",
    "    imc = pes / (altura ** 2) \n",
    "\n",
    "    if imc < 18.5: \n",
    "        clasificacio = \"baix pes\"\n",
    "    elif 18.5 <= imc < 24.9:\n",
    "        clasificacio = \"pes normal\"\n",
    "    elif 25 <= imc < 29.9:\n",
    "        clasificacio = \"sobrepès\"\n",
    "    else:\n",
    "        clasificacio = \"obesitat\"\n",
    "    print(f\"El teu IMC és {imc:.2f}, per tant tens '{clasificacio}'.\") \n",
    "calculadora_imc() "
   ]
  },
  {
   "cell_type": "markdown",
   "metadata": {},
   "source": [
    "### Exercici 2\n",
    "Convertidor de temperatures.\n",
    "\n",
    "Existeixen diverses unitats de temperatura utilitzades en diferents contextos i regions. Les més comunes són Celsius (°C), Fahrenheit (°F) i Kelvin (K). També existeixen altres unitats com Rankine (°Ra) i Réaumur (°Re). Selecciona almenys 2 conversors, de tal manera que en introduir una temperatura retorni, com a mínim, dues conversions."
   ]
  },
  {
   "cell_type": "markdown",
   "metadata": {},
   "source": [
    "LÒGICA DE L'EXERCICI: \n",
    "1. Definim la funció \n",
    "2. Mitjançant TRY i EXCEPT establim l'execució de la funció i l'excepció per a marcar els errors\n",
    "3. Introduïm la variable celsius on determinem l'input\n",
    "4. Afegim tots els cálculs per a cadasquna de les diferents temperatures\n",
    "5. Missatge d'error en cas d'introduir la temperatura en un format erroni\n",
    "6. Missatge d'impressió dels resultats\n",
    "7. Crida a la funció"
   ]
  },
  {
   "cell_type": "code",
   "execution_count": 7,
   "metadata": {},
   "outputs": [
    {
     "name": "stdout",
     "output_type": "stream",
     "text": [
      "34.00°C equival a: 93.20°F, 307.15K, 552.87°Ra, 27.20°Re.\n"
     ]
    }
   ],
   "source": [
    "def convertidor_temperatures():\n",
    "    try:\n",
    "        celsius = float(input(\"Introdueix la temperatura en Celsius (°C): \"))  \n",
    "        fahrenheit = celsius * 9/5 + 32 #càlcul de temperatura Fahrenheit desde Celsius\n",
    "        kelvin = celsius + 273.15 #càlcul de la temperatura Kelvin desde Celsius\n",
    "        rankine = (celsius + 273.15) * 9/5  #càlcul de la temperatura Rankine desde Celsius\n",
    "        reaumur = celsius * 0.8 #càlcul de la temperatura Réaumur desde Celsius\n",
    "        print(f\"{celsius:.2f}°C equival a: {fahrenheit:.2f}°F, {kelvin:.2f}K, {rankine:.2f}°Ra, {reaumur:.2f}°Re.\") \n",
    "    except ValueError:\n",
    "        print(\"El valor introduït no és una temperatura vàlida. Si us plau, introdueix un número.\")\n",
    "\n",
    "convertidor_temperatures() "
   ]
  },
  {
   "cell_type": "markdown",
   "metadata": {},
   "source": [
    "### Exercici 3\n",
    "Comptador de paraules d'un text.\n",
    "\n",
    "Escriu una funció que donat un text, mostri les vegades que apareix cada paraula."
   ]
  },
  {
   "cell_type": "markdown",
   "metadata": {},
   "source": [
    "LÒGICA DE L'EXERCICI:\n",
    "1. Demanem la variable de l'input a l'usuari\n",
    "2. Definim la funció que utilitzarà el text de l'input\n",
    "3. Transformem el text a minúscules\n",
    "4. Dividim el text per paraules\n",
    "5. Creem una funció que ens permet eliminar la puntuació del text per mitjà d'un bucle que detecta els simbols i caràcters especials\n",
    "6. Establim un diccionari on emmagatzemarem les paraules del text\n",
    "7. Mitjançant un bucle es recorre la llista de paurales que formen el text\n",
    "8. Utilitzem un condicional per a afegir les paraules noves al diccionari i per sumar les paraules que estiguin repetides\n",
    "9. Amb un últim bucle es fa un recompte de les paraules i la seva freqüència i s'afegeixen al diccionari amb la clau -paraula- valor- freqüència\n",
    "10. Missatge de resultats\n",
    "11. Crida a la funció"
   ]
  },
  {
   "cell_type": "code",
   "execution_count": 14,
   "metadata": {},
   "outputs": [
    {
     "name": "stdout",
     "output_type": "stream",
     "text": [
      "La paraula 'la' apareix 2 cops.\n",
      "La paraula 'vaca' apareix 2 cops.\n",
      "La paraula 'lola,' apareix 2 cops.\n",
      "La paraula 'tiene' apareix 2 cops.\n",
      "La paraula 'cabeza' apareix 1 cops.\n",
      "La paraula 'y' apareix 1 cops.\n",
      "La paraula 'cola.' apareix 1 cops.\n"
     ]
    }
   ],
   "source": [
    "text = input(\"Introdueix un text: \")\n",
    "                # text d'exemple: La vaca Lola, la vaca Lola, tiene cabeza y tiene cola.\n",
    "\n",
    "def contador_paraules(text):\n",
    "    text = text.lower() \n",
    "    paraula = text.split() \n",
    "\n",
    "    def eliminar_puntuacio(text): \n",
    "        puntuacio = set('!\\\"#$%&\\'()*+,-./:;<=>?@[\\\\]^_`{|}~') \n",
    "        text_no_puntuacio = ''\n",
    "        for caracter in text:\n",
    "            if caracter not in puntuacio:\n",
    "                texto_no_puntuacio += caracter\n",
    "        return text_no_puntuacio\n",
    "\n",
    "    freq_paraula = {} \n",
    "\n",
    "    for paraula in paraula: \n",
    "        if paraula in freq_paraula:\n",
    "            freq_paraula[paraula] += 1 \n",
    "        else:\n",
    "            freq_paraula[paraula] = 1 \n",
    "    \n",
    "    for paraula, freq in freq_paraula.items():\n",
    "        print(f\"La paraula '{paraula}' apareix {freq} cops.\")\n",
    "\n",
    "contador_paraules(text)\n"
   ]
  },
  {
   "cell_type": "markdown",
   "metadata": {},
   "source": [
    "### Exercici 4\n",
    "Diccionari invers.\n",
    "\n",
    "Resulta que el client té una enquesta molt antiga que s'emmagatzema en un diccionari i els resultats els necessita al revés, és a dir, intercanviats les claus i els valors. Els valors i claus en el diccionari original són únics; si aquest no és el cas, la funció hauria d'imprimir un missatge d'advertiment.\n",
    "\n",
    "\n"
   ]
  },
  {
   "cell_type": "markdown",
   "metadata": {},
   "source": [
    "LÒGICA DE L'EXERCICI:\n",
    "1. Definició de la funció\n",
    "2. Condicional per a valorar si els valors afegits al diccionari original son diferents dels ja existents per a evitar duplicats\n",
    "3. Missatge d'advertència\n",
    "4. Condicional que comprova que els valors són nous i, per tant, els emmagatzema de forma inversa. Aquest pas compte amb un bucle per a recorrer els valors del diccionari\n",
    "5. Diferents variables per a introduir diccionaris amb duplicats o sense \n",
    "6. Variable diccionari invertit com a crida de la funció\n",
    "7. Missatge condicional per a mostrar els resultats quan la funció ha estat cridada"
   ]
  },
  {
   "cell_type": "code",
   "execution_count": 9,
   "metadata": {},
   "outputs": [
    {
     "name": "stdout",
     "output_type": "stream",
     "text": [
      "Diccionari Invertit: {1: 'a', 2: 'b', 3: 'c', 4: 'd'}\n"
     ]
    }
   ],
   "source": [
    "def invertir_diccionari(diccionari_original):\n",
    "    if len(diccionari_original.values()) != len(set(diccionari_original.values())): \n",
    "        print(\"Atenció: Els valors no són únics en el diccionari original.\")\n",
    "    else:\n",
    "        diccionari_invertit = {valor: clau for clau, valor in diccionari_original.items()} \n",
    "        return diccionari_invertit\n",
    "    \n",
    "#cal tenir en compte seleccionar una variable diccionari_original!\n",
    "#diccionari_original = {'a': 1, 'b': 2, 'c': 3, 'd':3} #diccionari per verificar missatge\n",
    "diccionari_original = {'a': 1, 'b': 2, 'c': 3, 'd':4} #diccionari per verificar inversió\n",
    "diccionari_invertit = invertir_diccionari(diccionari_original) \n",
    "\n",
    "if diccionari_invertit:\n",
    "    print(\"Diccionari Invertit:\", diccionari_invertit) "
   ]
  },
  {
   "cell_type": "markdown",
   "metadata": {},
   "source": [
    "## NIVELL 2"
   ]
  },
  {
   "cell_type": "markdown",
   "metadata": {},
   "source": [
    "### Exercici 1\n",
    "Diccionari invers amb duplicats\n",
    "\n",
    "Continuant amb l'exercici 4 del nivell 1: al client es va oblidar de comentar un detall i resulta que els valors en el diccionari original poden duplicar-se i més, per la qual cosa les claus intercanviades poden tenir duplicats. En aquest cas, en l'exercici anterior imprimies un missatge d'advertiment, ara, els valors del diccionari resultant hauran d'emmagatzemar-se com una llista. Tingues en compte que si és un valor únic no ha de ser una llista.\n",
    "\n"
   ]
  },
  {
   "cell_type": "markdown",
   "metadata": {},
   "source": [
    "LÒGICA DE L'EXERCICI:\n",
    "1. Definir la funció\n",
    "2. Creació d'un diccionari buit per a les claus noves\n",
    "3. Bucle per a extreure el contingut del diccionari (claus:valor)\n",
    "4. Condicional per a assignar-li una clau als valors que no existeixin al diccionari\n",
    "5. Condicional per a gestionar els valors que ja existeixen. Si el valor existeix s'hi afegeix la clau o bé s'afegeix la clau com a llista per als valors duplicats\n",
    "6. Variable d'exemple de diccionari\n",
    "7. Crida a la funció\n",
    "8. Impressió del missatge de resultat"
   ]
  },
  {
   "cell_type": "code",
   "execution_count": 10,
   "metadata": {},
   "outputs": [
    {
     "name": "stdout",
     "output_type": "stream",
     "text": [
      "Diccionari Invertit: {1: ['Cotxe', 'Taxi'], 2: 'Bus', 3: 'Tren'}\n"
     ]
    }
   ],
   "source": [
    "def invertir_diccionari(diccionari_original): \n",
    "    diccionari_invertit = {}  \n",
    "\n",
    "    for clau, valor in diccionari_original.items():\n",
    "        if valor not in diccionari_invertit:\n",
    "            diccionari_invertit[valor] = clau \n",
    "        else:\n",
    "            if isinstance(diccionari_invertit[valor], list): \n",
    "                diccionari_invertit[valor].append(clau) \n",
    "            else:\n",
    "                diccionari_invertit[valor] = [diccionari_invertit[valor], clau] \n",
    "    return diccionari_invertit\n",
    "\n",
    "diccionari_original = {'Cotxe': 1, 'Bus': 2, 'Taxi': 1, 'Tren': 3} \n",
    "\n",
    "diccionari_invertit = invertir_diccionari(diccionari_original) \n",
    "print(\"Diccionari Invertit:\", diccionari_invertit)"
   ]
  },
  {
   "cell_type": "markdown",
   "metadata": {},
   "source": [
    "### Exercici 2\n",
    "Conversió de tipus de dades\n",
    "\n",
    "El client rep una llista de dades i necessita generar dues llistes, la primera on estaran tots els elements que es van poder convertir en flotants i l'altra on estan els elements que no es van poder convertir. Exemple de la llista que rep el client: [ '1.3', 'one' , '1e10' , 'seven', '3-1/2', ('2',1,1.4,'not-a-number'), [1,2,'3','3.4']]\n",
    "\n"
   ]
  },
  {
   "cell_type": "markdown",
   "metadata": {},
   "source": [
    "LÒGICA DE L'EXERCICI: \n",
    "1. Llista amb els valors que volem evaluar\n",
    "2. Definició de la funció de conversió de dades\n",
    "3. Creació de 2 llistes buides per a incloure les dades que no es poden convertir en flotants i les que sí\n",
    "4. Creació d'una funció per a evaluar si els elements de la llista es poden castejar o no\n",
    "5. Creació d'una segona funció secundària per a processar aquells elements que es poden convertir que ja han estat verificats\n",
    "6. Condició per a comprobar si l'element es troba a la llista\n",
    "7. Condició per a afegir-lo en cas de que no estigués a la llista o bé transformat dins de la llista convertibles o be sense transformar dins la llista no_convertibles\n",
    "8. Crida a la funció\n",
    "9. Impressió de resultats"
   ]
  },
  {
   "cell_type": "code",
   "execution_count": 11,
   "metadata": {},
   "outputs": [
    {
     "name": "stdout",
     "output_type": "stream",
     "text": [
      "Elements convertibles: [1.3, 10000000000.0, 2.0, 1.0, 1.4, 1.0, 2.0, 3.0, 3.4]\n",
      "Elements no convertibles: ['one', 'seven', '3-1/2', 'not-a-number']\n"
     ]
    }
   ],
   "source": [
    "llista_original = ['1.3', 'one', '1e10', 'seven', '3-1/2', ('2', 1, 1.4, 'not-a-number'), [1, 2, '3', '3.4']]\n",
    "\n",
    "def conversio_dades(llista_original): \n",
    "    convertibles = [] \n",
    "    no_convertibles = [] \n",
    "\n",
    "    def convertible(element): \n",
    "        try:\n",
    "            float(element)\n",
    "            return True\n",
    "        except (ValueError, TypeError):\n",
    "            return False\n",
    "\n",
    "    def processar_element(element): \n",
    "        if isinstance(element, (list, tuple)): \n",
    "            for sub_element in element:\n",
    "                processar_element(sub_element)\n",
    "        else:\n",
    "            if convertible(element): \n",
    "                convertibles.append(float(element)) \n",
    "            else:\n",
    "                no_convertibles.append(element) \n",
    "\n",
    "    for item in llista_original:\n",
    "        processar_element(item) \n",
    "    return convertibles, no_convertibles\n",
    "\n",
    "convertibles, no_convertibles = conversio_dades(llista_original) \n",
    "\n",
    "print(\"Elements convertibles:\", convertibles)\n",
    "print(\"Elements no convertibles:\", no_convertibles)"
   ]
  },
  {
   "cell_type": "markdown",
   "metadata": {},
   "source": [
    "## NIVELL 3"
   ]
  },
  {
   "cell_type": "markdown",
   "metadata": {},
   "source": [
    "### Exercici 1\n",
    "Comptador i endreçador de paraules d'un text.\n",
    "\n",
    "El client va quedar content amb el comptador de paraules, però ara vol llegir arxius TXT i que calculi la freqüència de cada paraula ordenades dins de les entrades habituals del diccionari segons la lletra amb la qual comencen, és a dir, les claus han d'anar de la A a la Z i dins de la A hem d'anar de la A la Z. Per exemple, per a l'arxiu \"tu_me_quieres_blanca.txt\" la sortida esperada seria:\n",
    "\n",
    "\n",
    "\n"
   ]
  },
  {
   "cell_type": "markdown",
   "metadata": {},
   "source": [
    "LÒGICA DE L'EXERCICI: \n",
    "1. Importem llibreries que ens poden ser útils per a la gestió d'strings i de textos\n",
    "2. Definim la funció \n",
    "3. Establim una variable mitjançant lambda que ens permet ordenar alfabèticament\n",
    "4. Fem servir la funció anteriorment creada (ex.3 Nivell 1) per a eliminar la puntuació del text\n",
    "5. Mitjançant el comandament with open podem obrir el document on tenim el text. Per a poder treballar amb aquesta funció d'una forma més òptima cal que emmagatzemem el document a la mateixa carpeta on tenim el nostre jupiter notebook\n",
    "6. Fem servir un bucle per a recorrer les línies del text\n",
    "7. Transformem el text amb la funció d'extreure puntuació i modificant totes les paraules a minúscula\n",
    "8. Separem les paraules de cada línia\n",
    "9. Fem servir un altre bucle per a detectar la inicial de cada paraula i sumar els cops que apareixen les mateixes paraules\n",
    "10. Amb aquest bucle podem ordenar cada paraula ja classificada per la seva inicial de forma alfabètica i imprimir els resultats\n",
    "11. Crida a la funció, on determinem quin text està subjecte a la funció anteriorment creada. D'aquesta forma podem emmagatzemar aquesta funció i fer-la servir per a qualsevol tipus de text que volem evaluar fent la funció escalable. "
   ]
  },
  {
   "cell_type": "code",
   "execution_count": 12,
   "metadata": {},
   "outputs": [
    {
     "name": "stdout",
     "output_type": "stream",
     "text": [
      "'A':\n",
      " a: 3\n",
      " agua: 1\n",
      " al: 2\n",
      " alba: 4\n",
      " alcobas: 1\n",
      " alimenta: 1\n",
      " alma: 1\n",
      " amarga: 1\n",
      " azucena: 1\n",
      "'B':\n",
      " baco: 1\n",
      " banquete: 1\n",
      " bebe: 1\n",
      " blanca: 3\n",
      " boca: 1\n",
      " bosques: 1\n",
      " buen: 1\n",
      "'C':\n",
      " cabañas: 1\n",
      " carnes: 2\n",
      " casta: 3\n",
      " cerrada: 1\n",
      " con: 4\n",
      " conservas: 1\n",
      " copas: 1\n",
      " corola: 1\n",
      " corriste: 1\n",
      " cuando: 2\n",
      " cubierto: 1\n",
      " cuerpo: 1\n",
      " cuáles: 1\n",
      "'D':\n",
      " de: 8\n",
      " dejaste: 1\n",
      " del: 1\n",
      " diga: 1\n",
      " dios: 2\n",
      " duerme: 1\n",
      "'E':\n",
      " el: 4\n",
      " ellas: 1\n",
      " en: 4\n",
      " engaño: 1\n",
      " enredada: 1\n",
      " entonces: 1\n",
      " escarcha: 1\n",
      " espumas: 1\n",
      " esqueleto: 1\n",
      " estrago: 1\n",
      "'F':\n",
      " festejando: 1\n",
      " filtrado: 1\n",
      " frutos: 1\n",
      "'H':\n",
      " habla: 1\n",
      " hacia: 1\n",
      " haya: 1\n",
      " hayas: 1\n",
      " hermana: 1\n",
      " hombre: 1\n",
      " hubiste: 1\n",
      " huye: 1\n",
      "'I':\n",
      " intacto: 1\n",
      "'J':\n",
      " jardines: 1\n",
      "'L':\n",
      " la: 3\n",
      " labios: 1\n",
      " las: 7\n",
      " lo: 2\n",
      " los: 4\n",
      " luna: 1\n",
      " lévate: 1\n",
      " límpiate: 1\n",
      "'M':\n",
      " mano: 1\n",
      " manos: 1\n",
      " margarita: 1\n",
      " me: 10\n",
      " mi: 1\n",
      " mieles: 1\n",
      " milagros: 1\n",
      " mojada: 1\n",
      " montaña: 1\n",
      " morados: 1\n",
      "'N':\n",
      " negros: 1\n",
      " ni: 2\n",
      " no: 1\n",
      " nácar: 1\n",
      " nívea: 2\n",
      "'P':\n",
      " perdone: 2\n",
      " perfume: 1\n",
      " por: 2\n",
      " pretendes: 3\n",
      " preténdeme: 3\n",
      " puesto: 1\n",
      " pájaros: 1\n",
      " pámpanos: 1\n",
      "'Q':\n",
      " que: 6\n",
      " quedó: 1\n",
      " quieres: 6\n",
      "'R':\n",
      " rayo: 1\n",
      " raíz: 1\n",
      " renueva: 1\n",
      " rocas: 1\n",
      " rojo: 1\n",
      "'S':\n",
      " salitre: 1\n",
      " se: 2\n",
      " sea: 1\n",
      " sean: 1\n",
      " sobre: 2\n",
      " sé: 1\n",
      "'T':\n",
      " te: 3\n",
      " tejidos: 1\n",
      " tenue: 1\n",
      " tierra: 1\n",
      " toca: 1\n",
      " todas: 2\n",
      " todavía: 1\n",
      " tornadas: 1\n",
      " tú: 8\n",
      "'U':\n",
      " un: 1\n",
      " una: 1\n",
      "'V':\n",
      " vestido: 1\n",
      " vete: 1\n",
      " vive: 1\n",
      "'Y':\n",
      " y: 5\n"
     ]
    }
   ],
   "source": [
    "from collections import defaultdict \n",
    "import string\n",
    "\n",
    "def procesar_text(document):\n",
    "    paraules_per_inicial = defaultdict(lambda: defaultdict(int)) \n",
    "\n",
    "    def eliminar_puntuacio(text): \n",
    "        puntuacio = set('¡!\\\"#$%&\\'()*+,-./:;<=>¿?@[\\\\]^_`{|}~') \n",
    "        text_no_puntuacio = ''\n",
    "        for caracter in text:  \n",
    "            if caracter not in puntuacio:\n",
    "                text_no_puntuacio += caracter\n",
    "        return text_no_puntuacio\n",
    "\n",
    "    with open(document, 'r', encoding='utf-8') as file: \n",
    "        for line in file: \n",
    "            line = eliminar_puntuacio(line.lower())\n",
    "            words = line.split() \n",
    "            \n",
    "            for paraula in words: \n",
    "                inicial = paraula[0]\n",
    "                paraules_per_inicial[inicial][paraula] += 1\n",
    "\n",
    "    for inicial in sorted(paraules_per_inicial): \n",
    "        print(f\"'{inicial.upper()}':\")\n",
    "        for paraula, freq in sorted(paraules_per_inicial[inicial].items()):\n",
    "            print(f\" {paraula}: {freq}\")\n",
    "\n",
    "procesar_text('tu_me_quieres_blanca.txt') "
   ]
  }
 ],
 "metadata": {
  "kernelspec": {
   "display_name": "ironhack",
   "language": "python",
   "name": "python3"
  },
  "language_info": {
   "codemirror_mode": {
    "name": "ipython",
    "version": 3
   },
   "file_extension": ".py",
   "mimetype": "text/x-python",
   "name": "python",
   "nbconvert_exporter": "python",
   "pygments_lexer": "ipython3",
   "version": "3.10.15"
  }
 },
 "nbformat": 4,
 "nbformat_minor": 2
}
